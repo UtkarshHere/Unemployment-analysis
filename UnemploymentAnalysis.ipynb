{
  "nbformat": 4,
  "nbformat_minor": 0,
  "metadata": {
    "colab": {
      "name": "UnemploymentAnalysis.ipynb",
      "provenance": [],
      "authorship_tag": "ABX9TyOWCvpl97H/3OykZPgef5h7",
      "include_colab_link": true
    },
    "kernelspec": {
      "name": "python3",
      "display_name": "Python 3"
    },
    "language_info": {
      "name": "python"
    }
  },
  "cells": [
    {
      "cell_type": "markdown",
      "metadata": {
        "id": "view-in-github",
        "colab_type": "text"
      },
      "source": [
        "<a href=\"https://colab.research.google.com/github/UtkarshHere/Unemployment-analysis/blob/main/UnemploymentAnalysis.ipynb\" target=\"_parent\"><img src=\"https://colab.research.google.com/assets/colab-badge.svg\" alt=\"Open In Colab\"/></a>"
      ]
    },
    {
      "cell_type": "code",
      "metadata": {
        "colab": {
          "base_uri": "https://localhost:8080/"
        },
        "id": "i5zVQP8xuJjT",
        "outputId": "efb93d24-ed4f-43fc-97d7-7a30d586a2ee"
      },
      "source": [
        "import pandas as pd\n",
        "import numpy as np\n",
        "import matplotlib.pyplot as plt\n",
        "import seaborn as sns\n",
        "import plotly.express as px\n",
        "\n",
        "data = pd.read_csv(\"https://raw.githubusercontent.com/amankharwal/Website-data/master/unemployment.csv\")\n",
        "print(data.head())"
      ],
      "execution_count": 1,
      "outputs": [
        {
          "output_type": "stream",
          "text": [
            "           Region         Date  Frequency  ...  Region.1  longitude  latitude\n",
            "0  Andhra Pradesh   31-01-2020          M  ...     South    15.9129     79.74\n",
            "1  Andhra Pradesh   29-02-2020          M  ...     South    15.9129     79.74\n",
            "2  Andhra Pradesh   31-03-2020          M  ...     South    15.9129     79.74\n",
            "3  Andhra Pradesh   30-04-2020          M  ...     South    15.9129     79.74\n",
            "4  Andhra Pradesh   31-05-2020          M  ...     South    15.9129     79.74\n",
            "\n",
            "[5 rows x 9 columns]\n"
          ],
          "name": "stdout"
        }
      ]
    },
    {
      "cell_type": "code",
      "metadata": {
        "colab": {
          "base_uri": "https://localhost:8080/"
        },
        "id": "KX9Pum1jua-o",
        "outputId": "2b78ea99-3dda-45e0-88ff-f8227e63eca1"
      },
      "source": [
        "print(data.isnull().sum())"
      ],
      "execution_count": 2,
      "outputs": [
        {
          "output_type": "stream",
          "text": [
            "Region                                      0\n",
            "Date                                        0\n",
            " Frequency                                  0\n",
            " Estimated Unemployment Rate (%)            0\n",
            " Estimated Employed                         0\n",
            " Estimated Labour Participation Rate (%)    0\n",
            "Region.1                                    0\n",
            "longitude                                   0\n",
            "latitude                                    0\n",
            "dtype: int64\n"
          ],
          "name": "stdout"
        }
      ]
    }
  ]
}